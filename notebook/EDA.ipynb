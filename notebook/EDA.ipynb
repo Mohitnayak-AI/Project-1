{
 "cells": [
  {
   "cell_type": "markdown",
   "id": "2c7c1e37",
   "metadata": {},
   "source": [
    "# Import imp lib"
   ]
  },
  {
   "cell_type": "code",
   "execution_count": 15,
   "id": "c4ad864b",
   "metadata": {},
   "outputs": [],
   "source": [
    "import pandas as pd\n",
    "import numpy as np\n",
    "import matplotlib.pyplot as plt\n",
    "import seaborn as sns "
   ]
  },
  {
   "cell_type": "code",
   "execution_count": 16,
   "id": "edd80361",
   "metadata": {},
   "outputs": [
    {
     "data": {
      "application/vnd.microsoft.datawrangler.viewer.v0+json": {
       "columns": [
        {
         "name": "index",
         "rawType": "int64",
         "type": "integer"
        },
        {
         "name": "id",
         "rawType": "int64",
         "type": "integer"
        },
        {
         "name": "sale_date",
         "rawType": "object",
         "type": "string"
        },
        {
         "name": "sale_price",
         "rawType": "int64",
         "type": "integer"
        },
        {
         "name": "sale_nbr",
         "rawType": "float64",
         "type": "float"
        },
        {
         "name": "sale_warning",
         "rawType": "object",
         "type": "string"
        },
        {
         "name": "join_status",
         "rawType": "object",
         "type": "string"
        },
        {
         "name": "join_year",
         "rawType": "int64",
         "type": "integer"
        },
        {
         "name": "latitude",
         "rawType": "float64",
         "type": "float"
        },
        {
         "name": "longitude",
         "rawType": "float64",
         "type": "float"
        },
        {
         "name": "area",
         "rawType": "int64",
         "type": "integer"
        },
        {
         "name": "city",
         "rawType": "object",
         "type": "string"
        },
        {
         "name": "zoning",
         "rawType": "object",
         "type": "string"
        },
        {
         "name": "subdivision",
         "rawType": "object",
         "type": "string"
        },
        {
         "name": "present_use",
         "rawType": "int64",
         "type": "integer"
        },
        {
         "name": "land_val",
         "rawType": "int64",
         "type": "integer"
        },
        {
         "name": "imp_val",
         "rawType": "int64",
         "type": "integer"
        },
        {
         "name": "year_built",
         "rawType": "int64",
         "type": "integer"
        },
        {
         "name": "year_reno",
         "rawType": "int64",
         "type": "integer"
        },
        {
         "name": "sqft_lot",
         "rawType": "int64",
         "type": "integer"
        },
        {
         "name": "sqft",
         "rawType": "int64",
         "type": "integer"
        },
        {
         "name": "sqft_1",
         "rawType": "int64",
         "type": "integer"
        },
        {
         "name": "sqft_fbsmt",
         "rawType": "int64",
         "type": "integer"
        },
        {
         "name": "grade",
         "rawType": "int64",
         "type": "integer"
        },
        {
         "name": "fbsmt_grade",
         "rawType": "int64",
         "type": "integer"
        },
        {
         "name": "condition",
         "rawType": "int64",
         "type": "integer"
        },
        {
         "name": "stories",
         "rawType": "float64",
         "type": "float"
        },
        {
         "name": "beds",
         "rawType": "int64",
         "type": "integer"
        },
        {
         "name": "bath_full",
         "rawType": "int64",
         "type": "integer"
        },
        {
         "name": "bath_3qtr",
         "rawType": "int64",
         "type": "integer"
        },
        {
         "name": "bath_half",
         "rawType": "int64",
         "type": "integer"
        },
        {
         "name": "garb_sqft",
         "rawType": "int64",
         "type": "integer"
        },
        {
         "name": "gara_sqft",
         "rawType": "int64",
         "type": "integer"
        },
        {
         "name": "wfnt",
         "rawType": "int64",
         "type": "integer"
        },
        {
         "name": "golf",
         "rawType": "int64",
         "type": "integer"
        },
        {
         "name": "greenbelt",
         "rawType": "int64",
         "type": "integer"
        },
        {
         "name": "noise_traffic",
         "rawType": "int64",
         "type": "integer"
        },
        {
         "name": "view_rainier",
         "rawType": "int64",
         "type": "integer"
        },
        {
         "name": "view_olympics",
         "rawType": "int64",
         "type": "integer"
        },
        {
         "name": "view_cascades",
         "rawType": "int64",
         "type": "integer"
        },
        {
         "name": "view_territorial",
         "rawType": "int64",
         "type": "integer"
        },
        {
         "name": "view_skyline",
         "rawType": "int64",
         "type": "integer"
        },
        {
         "name": "view_sound",
         "rawType": "int64",
         "type": "integer"
        },
        {
         "name": "view_lakewash",
         "rawType": "int64",
         "type": "integer"
        },
        {
         "name": "view_lakesamm",
         "rawType": "int64",
         "type": "integer"
        },
        {
         "name": "view_otherwater",
         "rawType": "int64",
         "type": "integer"
        },
        {
         "name": "view_other",
         "rawType": "int64",
         "type": "integer"
        },
        {
         "name": "submarket",
         "rawType": "object",
         "type": "string"
        }
       ],
       "ref": "8a4a9ac8-f2ad-41b6-a5fc-80db407d2e40",
       "rows": [
        [
         "0",
         "0",
         "2014-11-15",
         "236000",
         "2.0",
         "   ",
         "nochg",
         "2025",
         "47.2917",
         "-122.3658",
         "53",
         "FEDERAL WAY",
         "RS7.2",
         "ALDERWOOD SOUTH DIV NO. 02",
         "2",
         "167000",
         "372000",
         "1975",
         "0",
         "10919",
         "1560",
         "1560",
         "0",
         "7",
         "0",
         "5",
         "1.0",
         "3",
         "1",
         "1",
         "0",
         "0",
         "500",
         "0",
         "0",
         "0",
         "0",
         "0",
         "0",
         "0",
         "0",
         "0",
         "0",
         "0",
         "0",
         "0",
         "0",
         "I"
        ],
        [
         "1",
         "1",
         "1999-01-15",
         "313300",
         null,
         " 26 ",
         "nochg",
         "2025",
         "47.6531",
         "-122.1996",
         "74",
         "KIRKLAND",
         "RS 8.5",
         "WILDWOOD LANE NO. 03",
         "2",
         "1184000",
         "598000",
         "1962",
         "0",
         "8900",
         "2040",
         "1220",
         "820",
         "7",
         "7",
         "4",
         "1.0",
         "3",
         "1",
         "1",
         "1",
         "0",
         "0",
         "0",
         "0",
         "0",
         "0",
         "0",
         "0",
         "0",
         "0",
         "0",
         "0",
         "1",
         "0",
         "0",
         "0",
         "Q"
        ],
        [
         "2",
         "2",
         "2006-08-15",
         "341000",
         "1.0",
         "   ",
         "nochg",
         "2025",
         "47.4733",
         "-122.1901",
         "30",
         "RENTON",
         "R-8",
         "FALCON RIDGE (CEDAR RIDGE)",
         "2",
         "230000",
         "356000",
         "1986",
         "0",
         "4953",
         "1640",
         "820",
         "0",
         "7",
         "0",
         "3",
         "2.0",
         "3",
         "2",
         "0",
         "1",
         "0",
         "480",
         "0",
         "0",
         "0",
         "0",
         "0",
         "0",
         "0",
         "0",
         "0",
         "0",
         "0",
         "0",
         "0",
         "0",
         "K"
        ],
        [
         "3",
         "3",
         "1999-12-15",
         "267000",
         "1.0",
         "   ",
         "nochg",
         "2025",
         "47.4739",
         "-122.3295",
         "96",
         "BURIEN",
         "RS-7200",
         "OLYMPIC VUE ESTATES",
         "2",
         "190000",
         "518000",
         "1998",
         "0",
         "6799",
         "2610",
         "1010",
         "500",
         "8",
         "7",
         "3",
         "2.0",
         "4",
         "2",
         "0",
         "1",
         "0",
         "530",
         "0",
         "0",
         "0",
         "1",
         "0",
         "0",
         "0",
         "0",
         "0",
         "0",
         "0",
         "0",
         "0",
         "0",
         "G"
        ],
        [
         "4",
         "4",
         "2018-07-15",
         "1650000",
         "2.0",
         "   ",
         "miss99",
         "2025",
         "47.7516",
         "-122.1222",
         "36",
         "KING COUNTY",
         "RA2.5",
         "HOLLYWOOD HILL HIGHLANDS",
         "2",
         "616000",
         "1917000",
         "1998",
         "0",
         "31687",
         "4040",
         "3640",
         "0",
         "12",
         "0",
         "3",
         "2.0",
         "4",
         "2",
         "1",
         "1",
         "0",
         "810",
         "0",
         "0",
         "0",
         "0",
         "0",
         "0",
         "0",
         "0",
         "0",
         "0",
         "0",
         "0",
         "0",
         "0",
         "P"
        ]
       ],
       "shape": {
        "columns": 47,
        "rows": 5
       }
      },
      "text/html": [
       "<div>\n",
       "<style scoped>\n",
       "    .dataframe tbody tr th:only-of-type {\n",
       "        vertical-align: middle;\n",
       "    }\n",
       "\n",
       "    .dataframe tbody tr th {\n",
       "        vertical-align: top;\n",
       "    }\n",
       "\n",
       "    .dataframe thead th {\n",
       "        text-align: right;\n",
       "    }\n",
       "</style>\n",
       "<table border=\"1\" class=\"dataframe\">\n",
       "  <thead>\n",
       "    <tr style=\"text-align: right;\">\n",
       "      <th></th>\n",
       "      <th>id</th>\n",
       "      <th>sale_date</th>\n",
       "      <th>sale_price</th>\n",
       "      <th>sale_nbr</th>\n",
       "      <th>sale_warning</th>\n",
       "      <th>join_status</th>\n",
       "      <th>join_year</th>\n",
       "      <th>latitude</th>\n",
       "      <th>longitude</th>\n",
       "      <th>area</th>\n",
       "      <th>...</th>\n",
       "      <th>view_olympics</th>\n",
       "      <th>view_cascades</th>\n",
       "      <th>view_territorial</th>\n",
       "      <th>view_skyline</th>\n",
       "      <th>view_sound</th>\n",
       "      <th>view_lakewash</th>\n",
       "      <th>view_lakesamm</th>\n",
       "      <th>view_otherwater</th>\n",
       "      <th>view_other</th>\n",
       "      <th>submarket</th>\n",
       "    </tr>\n",
       "  </thead>\n",
       "  <tbody>\n",
       "    <tr>\n",
       "      <th>0</th>\n",
       "      <td>0</td>\n",
       "      <td>2014-11-15</td>\n",
       "      <td>236000</td>\n",
       "      <td>2.0</td>\n",
       "      <td></td>\n",
       "      <td>nochg</td>\n",
       "      <td>2025</td>\n",
       "      <td>47.2917</td>\n",
       "      <td>-122.3658</td>\n",
       "      <td>53</td>\n",
       "      <td>...</td>\n",
       "      <td>0</td>\n",
       "      <td>0</td>\n",
       "      <td>0</td>\n",
       "      <td>0</td>\n",
       "      <td>0</td>\n",
       "      <td>0</td>\n",
       "      <td>0</td>\n",
       "      <td>0</td>\n",
       "      <td>0</td>\n",
       "      <td>I</td>\n",
       "    </tr>\n",
       "    <tr>\n",
       "      <th>1</th>\n",
       "      <td>1</td>\n",
       "      <td>1999-01-15</td>\n",
       "      <td>313300</td>\n",
       "      <td>NaN</td>\n",
       "      <td>26</td>\n",
       "      <td>nochg</td>\n",
       "      <td>2025</td>\n",
       "      <td>47.6531</td>\n",
       "      <td>-122.1996</td>\n",
       "      <td>74</td>\n",
       "      <td>...</td>\n",
       "      <td>0</td>\n",
       "      <td>0</td>\n",
       "      <td>0</td>\n",
       "      <td>0</td>\n",
       "      <td>0</td>\n",
       "      <td>1</td>\n",
       "      <td>0</td>\n",
       "      <td>0</td>\n",
       "      <td>0</td>\n",
       "      <td>Q</td>\n",
       "    </tr>\n",
       "    <tr>\n",
       "      <th>2</th>\n",
       "      <td>2</td>\n",
       "      <td>2006-08-15</td>\n",
       "      <td>341000</td>\n",
       "      <td>1.0</td>\n",
       "      <td></td>\n",
       "      <td>nochg</td>\n",
       "      <td>2025</td>\n",
       "      <td>47.4733</td>\n",
       "      <td>-122.1901</td>\n",
       "      <td>30</td>\n",
       "      <td>...</td>\n",
       "      <td>0</td>\n",
       "      <td>0</td>\n",
       "      <td>0</td>\n",
       "      <td>0</td>\n",
       "      <td>0</td>\n",
       "      <td>0</td>\n",
       "      <td>0</td>\n",
       "      <td>0</td>\n",
       "      <td>0</td>\n",
       "      <td>K</td>\n",
       "    </tr>\n",
       "    <tr>\n",
       "      <th>3</th>\n",
       "      <td>3</td>\n",
       "      <td>1999-12-15</td>\n",
       "      <td>267000</td>\n",
       "      <td>1.0</td>\n",
       "      <td></td>\n",
       "      <td>nochg</td>\n",
       "      <td>2025</td>\n",
       "      <td>47.4739</td>\n",
       "      <td>-122.3295</td>\n",
       "      <td>96</td>\n",
       "      <td>...</td>\n",
       "      <td>0</td>\n",
       "      <td>0</td>\n",
       "      <td>0</td>\n",
       "      <td>0</td>\n",
       "      <td>0</td>\n",
       "      <td>0</td>\n",
       "      <td>0</td>\n",
       "      <td>0</td>\n",
       "      <td>0</td>\n",
       "      <td>G</td>\n",
       "    </tr>\n",
       "    <tr>\n",
       "      <th>4</th>\n",
       "      <td>4</td>\n",
       "      <td>2018-07-15</td>\n",
       "      <td>1650000</td>\n",
       "      <td>2.0</td>\n",
       "      <td></td>\n",
       "      <td>miss99</td>\n",
       "      <td>2025</td>\n",
       "      <td>47.7516</td>\n",
       "      <td>-122.1222</td>\n",
       "      <td>36</td>\n",
       "      <td>...</td>\n",
       "      <td>0</td>\n",
       "      <td>0</td>\n",
       "      <td>0</td>\n",
       "      <td>0</td>\n",
       "      <td>0</td>\n",
       "      <td>0</td>\n",
       "      <td>0</td>\n",
       "      <td>0</td>\n",
       "      <td>0</td>\n",
       "      <td>P</td>\n",
       "    </tr>\n",
       "  </tbody>\n",
       "</table>\n",
       "<p>5 rows × 47 columns</p>\n",
       "</div>"
      ],
      "text/plain": [
       "   id   sale_date  sale_price  sale_nbr sale_warning join_status  join_year  \\\n",
       "0   0  2014-11-15      236000       2.0                    nochg       2025   \n",
       "1   1  1999-01-15      313300       NaN          26        nochg       2025   \n",
       "2   2  2006-08-15      341000       1.0                    nochg       2025   \n",
       "3   3  1999-12-15      267000       1.0                    nochg       2025   \n",
       "4   4  2018-07-15     1650000       2.0                   miss99       2025   \n",
       "\n",
       "   latitude  longitude  area  ... view_olympics view_cascades  \\\n",
       "0   47.2917  -122.3658    53  ...             0             0   \n",
       "1   47.6531  -122.1996    74  ...             0             0   \n",
       "2   47.4733  -122.1901    30  ...             0             0   \n",
       "3   47.4739  -122.3295    96  ...             0             0   \n",
       "4   47.7516  -122.1222    36  ...             0             0   \n",
       "\n",
       "  view_territorial  view_skyline  view_sound  view_lakewash  view_lakesamm  \\\n",
       "0                0             0           0              0              0   \n",
       "1                0             0           0              1              0   \n",
       "2                0             0           0              0              0   \n",
       "3                0             0           0              0              0   \n",
       "4                0             0           0              0              0   \n",
       "\n",
       "   view_otherwater  view_other  submarket  \n",
       "0                0           0          I  \n",
       "1                0           0          Q  \n",
       "2                0           0          K  \n",
       "3                0           0          G  \n",
       "4                0           0          P  \n",
       "\n",
       "[5 rows x 47 columns]"
      ]
     },
     "execution_count": 16,
     "metadata": {},
     "output_type": "execute_result"
    }
   ],
   "source": [
    "df = pd.read_csv('../data/dataset.csv')\n",
    "df.head()"
   ]
  },
  {
   "cell_type": "code",
   "execution_count": 17,
   "id": "a412b1ab",
   "metadata": {},
   "outputs": [
    {
     "data": {
      "application/vnd.microsoft.datawrangler.viewer.v0+json": {
       "columns": [
        {
         "name": "index",
         "rawType": "object",
         "type": "string"
        },
        {
         "name": "id",
         "rawType": "float64",
         "type": "float"
        },
        {
         "name": "sale_price",
         "rawType": "float64",
         "type": "float"
        },
        {
         "name": "sale_nbr",
         "rawType": "float64",
         "type": "float"
        },
        {
         "name": "join_year",
         "rawType": "float64",
         "type": "float"
        },
        {
         "name": "latitude",
         "rawType": "float64",
         "type": "float"
        },
        {
         "name": "longitude",
         "rawType": "float64",
         "type": "float"
        },
        {
         "name": "area",
         "rawType": "float64",
         "type": "float"
        },
        {
         "name": "present_use",
         "rawType": "float64",
         "type": "float"
        },
        {
         "name": "land_val",
         "rawType": "float64",
         "type": "float"
        },
        {
         "name": "imp_val",
         "rawType": "float64",
         "type": "float"
        },
        {
         "name": "year_built",
         "rawType": "float64",
         "type": "float"
        },
        {
         "name": "year_reno",
         "rawType": "float64",
         "type": "float"
        },
        {
         "name": "sqft_lot",
         "rawType": "float64",
         "type": "float"
        },
        {
         "name": "sqft",
         "rawType": "float64",
         "type": "float"
        },
        {
         "name": "sqft_1",
         "rawType": "float64",
         "type": "float"
        },
        {
         "name": "sqft_fbsmt",
         "rawType": "float64",
         "type": "float"
        },
        {
         "name": "grade",
         "rawType": "float64",
         "type": "float"
        },
        {
         "name": "fbsmt_grade",
         "rawType": "float64",
         "type": "float"
        },
        {
         "name": "condition",
         "rawType": "float64",
         "type": "float"
        },
        {
         "name": "stories",
         "rawType": "float64",
         "type": "float"
        },
        {
         "name": "beds",
         "rawType": "float64",
         "type": "float"
        },
        {
         "name": "bath_full",
         "rawType": "float64",
         "type": "float"
        },
        {
         "name": "bath_3qtr",
         "rawType": "float64",
         "type": "float"
        },
        {
         "name": "bath_half",
         "rawType": "float64",
         "type": "float"
        },
        {
         "name": "garb_sqft",
         "rawType": "float64",
         "type": "float"
        },
        {
         "name": "gara_sqft",
         "rawType": "float64",
         "type": "float"
        },
        {
         "name": "wfnt",
         "rawType": "float64",
         "type": "float"
        },
        {
         "name": "golf",
         "rawType": "float64",
         "type": "float"
        },
        {
         "name": "greenbelt",
         "rawType": "float64",
         "type": "float"
        },
        {
         "name": "noise_traffic",
         "rawType": "float64",
         "type": "float"
        },
        {
         "name": "view_rainier",
         "rawType": "float64",
         "type": "float"
        },
        {
         "name": "view_olympics",
         "rawType": "float64",
         "type": "float"
        },
        {
         "name": "view_cascades",
         "rawType": "float64",
         "type": "float"
        },
        {
         "name": "view_territorial",
         "rawType": "float64",
         "type": "float"
        },
        {
         "name": "view_skyline",
         "rawType": "float64",
         "type": "float"
        },
        {
         "name": "view_sound",
         "rawType": "float64",
         "type": "float"
        },
        {
         "name": "view_lakewash",
         "rawType": "float64",
         "type": "float"
        },
        {
         "name": "view_lakesamm",
         "rawType": "float64",
         "type": "float"
        },
        {
         "name": "view_otherwater",
         "rawType": "float64",
         "type": "float"
        },
        {
         "name": "view_other",
         "rawType": "float64",
         "type": "float"
        }
       ],
       "ref": "b34a9d64-0041-4b5a-a733-aebe38db285c",
       "rows": [
        [
         "count",
         "200000.0",
         "200000.0",
         "157818.0",
         "200000.0",
         "200000.0",
         "200000.0",
         "200000.0",
         "200000.0",
         "200000.0",
         "200000.0",
         "200000.0",
         "200000.0",
         "200000.0",
         "200000.0",
         "200000.0",
         "200000.0",
         "200000.0",
         "200000.0",
         "200000.0",
         "200000.0",
         "200000.0",
         "200000.0",
         "200000.0",
         "200000.0",
         "200000.0",
         "200000.0",
         "200000.0",
         "200000.0",
         "200000.0",
         "200000.0",
         "200000.0",
         "200000.0",
         "200000.0",
         "200000.0",
         "200000.0",
         "200000.0",
         "200000.0",
         "200000.0",
         "200000.0",
         "200000.0"
        ],
        [
         "mean",
         "99999.5",
         "584149.49469",
         "2.1625986896298266",
         "2023.4036",
         "47.5492480495",
         "-122.21041587050001",
         "48.644215",
         "4.10886",
         "460169.09241",
         "491771.49133",
         "1974.18476",
         "59.46883",
         "13783.09807",
         "2120.67985",
         "1251.28428",
         "293.238535",
         "7.66729",
         "2.811045",
         "3.515745",
         "1.5237775",
         "3.41939",
         "1.579735",
         "0.494115",
         "0.49302",
         "80.32632",
         "274.15147",
         "0.07862",
         "0.00622",
         "0.033505",
         "0.19813",
         "0.01794",
         "0.053985",
         "0.0588",
         "0.21555",
         "0.018425",
         "0.055565",
         "0.050075",
         "0.01409",
         "0.020875",
         "0.013455"
        ],
        [
         "std",
         "57735.17125634945",
         "417059.51975678036",
         "1.1130903683620534",
         "6.241642558694718",
         "0.14271017413227607",
         "0.14033918648336802",
         "27.13200237287213",
         "7.199322791182741",
         "351044.44777520205",
         "368050.5014961544",
         "30.54442647280094",
         "339.3341293720511",
         "37931.522886457176",
         "909.7994325998534",
         "468.0946484290127",
         "443.5779469417172",
         "1.1537463809492785",
         "3.5564946578402528",
         "0.7041481194307562",
         "0.5263670447559184",
         "0.8976391572788497",
         "0.6726846157732177",
         "0.6381828916243492",
         "0.5256354830710208",
         "180.1317301933746",
         "288.3387628347078",
         "0.7574772369245312",
         "0.07862151427384576",
         "0.17995159595814766",
         "0.5484122599651055",
         "0.21899405515214554",
         "0.3791191612563155",
         "0.3818681567196269",
         "0.7242242884660111",
         "0.22274597067924093",
         "0.38001085881361873",
         "0.3536638513696287",
         "0.20015412113758999",
         "0.24897699556931277",
         "0.18114670034432098"
        ],
        [
         "min",
         "0.0",
         "50293.0",
         "1.0",
         "1999.0",
         "47.1552",
         "-122.5277",
         "1.0",
         "2.0",
         "0.0",
         "0.0",
         "1900.0",
         "0.0",
         "375.0",
         "0.0",
         "1.0",
         "0.0",
         "1.0",
         "0.0",
         "1.0",
         "1.0",
         "0.0",
         "0.0",
         "0.0",
         "0.0",
         "0.0",
         "0.0",
         "0.0",
         "0.0",
         "0.0",
         "0.0",
         "0.0",
         "0.0",
         "0.0",
         "0.0",
         "0.0",
         "0.0",
         "0.0",
         "0.0",
         "0.0",
         "0.0"
        ],
        [
         "25%",
         "49999.75",
         "305000.0",
         "1.0",
         "2025.0",
         "47.4465",
         "-122.3238",
         "26.0",
         "2.0",
         "231000.0",
         "280000.0",
         "1953.0",
         "0.0",
         "5000.0",
         "1460.0",
         "950.0",
         "0.0",
         "7.0",
         "0.0",
         "3.0",
         "1.0",
         "3.0",
         "1.0",
         "0.0",
         "0.0",
         "0.0",
         "0.0",
         "0.0",
         "0.0",
         "0.0",
         "0.0",
         "0.0",
         "0.0",
         "0.0",
         "0.0",
         "0.0",
         "0.0",
         "0.0",
         "0.0",
         "0.0",
         "0.0"
        ],
        [
         "50%",
         "99999.5",
         "459950.0",
         "2.0",
         "2025.0",
         "47.5628",
         "-122.2227",
         "48.0",
         "2.0",
         "377000.0",
         "409000.0",
         "1978.0",
         "0.0",
         "7438.0",
         "1970.0",
         "1200.0",
         "0.0",
         "7.0",
         "0.0",
         "3.0",
         "1.5",
         "3.0",
         "2.0",
         "0.0",
         "0.0",
         "0.0",
         "240.0",
         "0.0",
         "0.0",
         "0.0",
         "0.0",
         "0.0",
         "0.0",
         "0.0",
         "0.0",
         "0.0",
         "0.0",
         "0.0",
         "0.0",
         "0.0",
         "0.0"
        ],
        [
         "75%",
         "149999.25",
         "724950.0",
         "3.0",
         "2025.0",
         "47.6735",
         "-122.1217",
         "71.0",
         "2.0",
         "594000.0",
         "599000.0",
         "2001.0",
         "0.0",
         "10220.0",
         "2610.0",
         "1470.0",
         "570.0",
         "8.0",
         "7.0",
         "4.0",
         "2.0",
         "4.0",
         "2.0",
         "1.0",
         "1.0",
         "0.0",
         "480.0",
         "0.0",
         "0.0",
         "0.0",
         "0.0",
         "0.0",
         "0.0",
         "0.0",
         "0.0",
         "0.0",
         "0.0",
         "0.0",
         "0.0",
         "0.0",
         "0.0"
        ],
        [
         "max",
         "199999.0",
         "2999950.0",
         "11.0",
         "2025.0",
         "47.7778",
         "-121.1613",
         "100.0",
         "29.0",
         "13864000.0",
         "10067000.0",
         "2025.0",
         "2024.0",
         "2310573.0",
         "13540.0",
         "7760.0",
         "5480.0",
         "13.0",
         "13.0",
         "5.0",
         "4.5",
         "14.0",
         "9.0",
         "8.0",
         "12.0",
         "12740.0",
         "4404.0",
         "9.0",
         "1.0",
         "1.0",
         "3.0",
         "4.0",
         "4.0",
         "4.0",
         "4.0",
         "4.0",
         "4.0",
         "4.0",
         "4.0",
         "4.0",
         "4.0"
        ]
       ],
       "shape": {
        "columns": 40,
        "rows": 8
       }
      },
      "text/html": [
       "<div>\n",
       "<style scoped>\n",
       "    .dataframe tbody tr th:only-of-type {\n",
       "        vertical-align: middle;\n",
       "    }\n",
       "\n",
       "    .dataframe tbody tr th {\n",
       "        vertical-align: top;\n",
       "    }\n",
       "\n",
       "    .dataframe thead th {\n",
       "        text-align: right;\n",
       "    }\n",
       "</style>\n",
       "<table border=\"1\" class=\"dataframe\">\n",
       "  <thead>\n",
       "    <tr style=\"text-align: right;\">\n",
       "      <th></th>\n",
       "      <th>id</th>\n",
       "      <th>sale_price</th>\n",
       "      <th>sale_nbr</th>\n",
       "      <th>join_year</th>\n",
       "      <th>latitude</th>\n",
       "      <th>longitude</th>\n",
       "      <th>area</th>\n",
       "      <th>present_use</th>\n",
       "      <th>land_val</th>\n",
       "      <th>imp_val</th>\n",
       "      <th>...</th>\n",
       "      <th>view_rainier</th>\n",
       "      <th>view_olympics</th>\n",
       "      <th>view_cascades</th>\n",
       "      <th>view_territorial</th>\n",
       "      <th>view_skyline</th>\n",
       "      <th>view_sound</th>\n",
       "      <th>view_lakewash</th>\n",
       "      <th>view_lakesamm</th>\n",
       "      <th>view_otherwater</th>\n",
       "      <th>view_other</th>\n",
       "    </tr>\n",
       "  </thead>\n",
       "  <tbody>\n",
       "    <tr>\n",
       "      <th>count</th>\n",
       "      <td>200000.000000</td>\n",
       "      <td>2.000000e+05</td>\n",
       "      <td>157818.000000</td>\n",
       "      <td>200000.000000</td>\n",
       "      <td>200000.000000</td>\n",
       "      <td>200000.000000</td>\n",
       "      <td>200000.000000</td>\n",
       "      <td>200000.000000</td>\n",
       "      <td>2.000000e+05</td>\n",
       "      <td>2.000000e+05</td>\n",
       "      <td>...</td>\n",
       "      <td>200000.000000</td>\n",
       "      <td>200000.000000</td>\n",
       "      <td>200000.000000</td>\n",
       "      <td>200000.000000</td>\n",
       "      <td>200000.000000</td>\n",
       "      <td>200000.000000</td>\n",
       "      <td>200000.000000</td>\n",
       "      <td>200000.000000</td>\n",
       "      <td>200000.000000</td>\n",
       "      <td>200000.000000</td>\n",
       "    </tr>\n",
       "    <tr>\n",
       "      <th>mean</th>\n",
       "      <td>99999.500000</td>\n",
       "      <td>5.841495e+05</td>\n",
       "      <td>2.162599</td>\n",
       "      <td>2023.403600</td>\n",
       "      <td>47.549248</td>\n",
       "      <td>-122.210416</td>\n",
       "      <td>48.644215</td>\n",
       "      <td>4.108860</td>\n",
       "      <td>4.601691e+05</td>\n",
       "      <td>4.917715e+05</td>\n",
       "      <td>...</td>\n",
       "      <td>0.017940</td>\n",
       "      <td>0.053985</td>\n",
       "      <td>0.058800</td>\n",
       "      <td>0.215550</td>\n",
       "      <td>0.018425</td>\n",
       "      <td>0.055565</td>\n",
       "      <td>0.050075</td>\n",
       "      <td>0.014090</td>\n",
       "      <td>0.020875</td>\n",
       "      <td>0.013455</td>\n",
       "    </tr>\n",
       "    <tr>\n",
       "      <th>std</th>\n",
       "      <td>57735.171256</td>\n",
       "      <td>4.170595e+05</td>\n",
       "      <td>1.113090</td>\n",
       "      <td>6.241643</td>\n",
       "      <td>0.142710</td>\n",
       "      <td>0.140339</td>\n",
       "      <td>27.132002</td>\n",
       "      <td>7.199323</td>\n",
       "      <td>3.510444e+05</td>\n",
       "      <td>3.680505e+05</td>\n",
       "      <td>...</td>\n",
       "      <td>0.218994</td>\n",
       "      <td>0.379119</td>\n",
       "      <td>0.381868</td>\n",
       "      <td>0.724224</td>\n",
       "      <td>0.222746</td>\n",
       "      <td>0.380011</td>\n",
       "      <td>0.353664</td>\n",
       "      <td>0.200154</td>\n",
       "      <td>0.248977</td>\n",
       "      <td>0.181147</td>\n",
       "    </tr>\n",
       "    <tr>\n",
       "      <th>min</th>\n",
       "      <td>0.000000</td>\n",
       "      <td>5.029300e+04</td>\n",
       "      <td>1.000000</td>\n",
       "      <td>1999.000000</td>\n",
       "      <td>47.155200</td>\n",
       "      <td>-122.527700</td>\n",
       "      <td>1.000000</td>\n",
       "      <td>2.000000</td>\n",
       "      <td>0.000000e+00</td>\n",
       "      <td>0.000000e+00</td>\n",
       "      <td>...</td>\n",
       "      <td>0.000000</td>\n",
       "      <td>0.000000</td>\n",
       "      <td>0.000000</td>\n",
       "      <td>0.000000</td>\n",
       "      <td>0.000000</td>\n",
       "      <td>0.000000</td>\n",
       "      <td>0.000000</td>\n",
       "      <td>0.000000</td>\n",
       "      <td>0.000000</td>\n",
       "      <td>0.000000</td>\n",
       "    </tr>\n",
       "    <tr>\n",
       "      <th>25%</th>\n",
       "      <td>49999.750000</td>\n",
       "      <td>3.050000e+05</td>\n",
       "      <td>1.000000</td>\n",
       "      <td>2025.000000</td>\n",
       "      <td>47.446500</td>\n",
       "      <td>-122.323800</td>\n",
       "      <td>26.000000</td>\n",
       "      <td>2.000000</td>\n",
       "      <td>2.310000e+05</td>\n",
       "      <td>2.800000e+05</td>\n",
       "      <td>...</td>\n",
       "      <td>0.000000</td>\n",
       "      <td>0.000000</td>\n",
       "      <td>0.000000</td>\n",
       "      <td>0.000000</td>\n",
       "      <td>0.000000</td>\n",
       "      <td>0.000000</td>\n",
       "      <td>0.000000</td>\n",
       "      <td>0.000000</td>\n",
       "      <td>0.000000</td>\n",
       "      <td>0.000000</td>\n",
       "    </tr>\n",
       "    <tr>\n",
       "      <th>50%</th>\n",
       "      <td>99999.500000</td>\n",
       "      <td>4.599500e+05</td>\n",
       "      <td>2.000000</td>\n",
       "      <td>2025.000000</td>\n",
       "      <td>47.562800</td>\n",
       "      <td>-122.222700</td>\n",
       "      <td>48.000000</td>\n",
       "      <td>2.000000</td>\n",
       "      <td>3.770000e+05</td>\n",
       "      <td>4.090000e+05</td>\n",
       "      <td>...</td>\n",
       "      <td>0.000000</td>\n",
       "      <td>0.000000</td>\n",
       "      <td>0.000000</td>\n",
       "      <td>0.000000</td>\n",
       "      <td>0.000000</td>\n",
       "      <td>0.000000</td>\n",
       "      <td>0.000000</td>\n",
       "      <td>0.000000</td>\n",
       "      <td>0.000000</td>\n",
       "      <td>0.000000</td>\n",
       "    </tr>\n",
       "    <tr>\n",
       "      <th>75%</th>\n",
       "      <td>149999.250000</td>\n",
       "      <td>7.249500e+05</td>\n",
       "      <td>3.000000</td>\n",
       "      <td>2025.000000</td>\n",
       "      <td>47.673500</td>\n",
       "      <td>-122.121700</td>\n",
       "      <td>71.000000</td>\n",
       "      <td>2.000000</td>\n",
       "      <td>5.940000e+05</td>\n",
       "      <td>5.990000e+05</td>\n",
       "      <td>...</td>\n",
       "      <td>0.000000</td>\n",
       "      <td>0.000000</td>\n",
       "      <td>0.000000</td>\n",
       "      <td>0.000000</td>\n",
       "      <td>0.000000</td>\n",
       "      <td>0.000000</td>\n",
       "      <td>0.000000</td>\n",
       "      <td>0.000000</td>\n",
       "      <td>0.000000</td>\n",
       "      <td>0.000000</td>\n",
       "    </tr>\n",
       "    <tr>\n",
       "      <th>max</th>\n",
       "      <td>199999.000000</td>\n",
       "      <td>2.999950e+06</td>\n",
       "      <td>11.000000</td>\n",
       "      <td>2025.000000</td>\n",
       "      <td>47.777800</td>\n",
       "      <td>-121.161300</td>\n",
       "      <td>100.000000</td>\n",
       "      <td>29.000000</td>\n",
       "      <td>1.386400e+07</td>\n",
       "      <td>1.006700e+07</td>\n",
       "      <td>...</td>\n",
       "      <td>4.000000</td>\n",
       "      <td>4.000000</td>\n",
       "      <td>4.000000</td>\n",
       "      <td>4.000000</td>\n",
       "      <td>4.000000</td>\n",
       "      <td>4.000000</td>\n",
       "      <td>4.000000</td>\n",
       "      <td>4.000000</td>\n",
       "      <td>4.000000</td>\n",
       "      <td>4.000000</td>\n",
       "    </tr>\n",
       "  </tbody>\n",
       "</table>\n",
       "<p>8 rows × 40 columns</p>\n",
       "</div>"
      ],
      "text/plain": [
       "                  id    sale_price       sale_nbr      join_year  \\\n",
       "count  200000.000000  2.000000e+05  157818.000000  200000.000000   \n",
       "mean    99999.500000  5.841495e+05       2.162599    2023.403600   \n",
       "std     57735.171256  4.170595e+05       1.113090       6.241643   \n",
       "min         0.000000  5.029300e+04       1.000000    1999.000000   \n",
       "25%     49999.750000  3.050000e+05       1.000000    2025.000000   \n",
       "50%     99999.500000  4.599500e+05       2.000000    2025.000000   \n",
       "75%    149999.250000  7.249500e+05       3.000000    2025.000000   \n",
       "max    199999.000000  2.999950e+06      11.000000    2025.000000   \n",
       "\n",
       "            latitude      longitude           area    present_use  \\\n",
       "count  200000.000000  200000.000000  200000.000000  200000.000000   \n",
       "mean       47.549248    -122.210416      48.644215       4.108860   \n",
       "std         0.142710       0.140339      27.132002       7.199323   \n",
       "min        47.155200    -122.527700       1.000000       2.000000   \n",
       "25%        47.446500    -122.323800      26.000000       2.000000   \n",
       "50%        47.562800    -122.222700      48.000000       2.000000   \n",
       "75%        47.673500    -122.121700      71.000000       2.000000   \n",
       "max        47.777800    -121.161300     100.000000      29.000000   \n",
       "\n",
       "           land_val       imp_val  ...   view_rainier  view_olympics  \\\n",
       "count  2.000000e+05  2.000000e+05  ...  200000.000000  200000.000000   \n",
       "mean   4.601691e+05  4.917715e+05  ...       0.017940       0.053985   \n",
       "std    3.510444e+05  3.680505e+05  ...       0.218994       0.379119   \n",
       "min    0.000000e+00  0.000000e+00  ...       0.000000       0.000000   \n",
       "25%    2.310000e+05  2.800000e+05  ...       0.000000       0.000000   \n",
       "50%    3.770000e+05  4.090000e+05  ...       0.000000       0.000000   \n",
       "75%    5.940000e+05  5.990000e+05  ...       0.000000       0.000000   \n",
       "max    1.386400e+07  1.006700e+07  ...       4.000000       4.000000   \n",
       "\n",
       "       view_cascades  view_territorial   view_skyline     view_sound  \\\n",
       "count  200000.000000     200000.000000  200000.000000  200000.000000   \n",
       "mean        0.058800          0.215550       0.018425       0.055565   \n",
       "std         0.381868          0.724224       0.222746       0.380011   \n",
       "min         0.000000          0.000000       0.000000       0.000000   \n",
       "25%         0.000000          0.000000       0.000000       0.000000   \n",
       "50%         0.000000          0.000000       0.000000       0.000000   \n",
       "75%         0.000000          0.000000       0.000000       0.000000   \n",
       "max         4.000000          4.000000       4.000000       4.000000   \n",
       "\n",
       "       view_lakewash  view_lakesamm  view_otherwater     view_other  \n",
       "count  200000.000000  200000.000000    200000.000000  200000.000000  \n",
       "mean        0.050075       0.014090         0.020875       0.013455  \n",
       "std         0.353664       0.200154         0.248977       0.181147  \n",
       "min         0.000000       0.000000         0.000000       0.000000  \n",
       "25%         0.000000       0.000000         0.000000       0.000000  \n",
       "50%         0.000000       0.000000         0.000000       0.000000  \n",
       "75%         0.000000       0.000000         0.000000       0.000000  \n",
       "max         4.000000       4.000000         4.000000       4.000000  \n",
       "\n",
       "[8 rows x 40 columns]"
      ]
     },
     "execution_count": 17,
     "metadata": {},
     "output_type": "execute_result"
    }
   ],
   "source": [
    "df.describe()"
   ]
  },
  {
   "cell_type": "code",
   "execution_count": 18,
   "id": "a8fdbcfd",
   "metadata": {},
   "outputs": [
    {
     "data": {
      "text/plain": [
       "Index(['id', 'sale_date', 'sale_price', 'sale_nbr', 'sale_warning',\n",
       "       'join_status', 'join_year', 'latitude', 'longitude', 'area', 'city',\n",
       "       'zoning', 'subdivision', 'present_use', 'land_val', 'imp_val',\n",
       "       'year_built', 'year_reno', 'sqft_lot', 'sqft', 'sqft_1', 'sqft_fbsmt',\n",
       "       'grade', 'fbsmt_grade', 'condition', 'stories', 'beds', 'bath_full',\n",
       "       'bath_3qtr', 'bath_half', 'garb_sqft', 'gara_sqft', 'wfnt', 'golf',\n",
       "       'greenbelt', 'noise_traffic', 'view_rainier', 'view_olympics',\n",
       "       'view_cascades', 'view_territorial', 'view_skyline', 'view_sound',\n",
       "       'view_lakewash', 'view_lakesamm', 'view_otherwater', 'view_other',\n",
       "       'submarket'],\n",
       "      dtype='object')"
      ]
     },
     "execution_count": 18,
     "metadata": {},
     "output_type": "execute_result"
    }
   ],
   "source": [
    "df.columns"
   ]
  },
  {
   "cell_type": "code",
   "execution_count": 19,
   "id": "e0974f6c",
   "metadata": {},
   "outputs": [
    {
     "name": "stdout",
     "output_type": "stream",
     "text": [
      "<class 'pandas.core.frame.DataFrame'>\n",
      "RangeIndex: 200000 entries, 0 to 199999\n",
      "Data columns (total 47 columns):\n",
      " #   Column            Non-Null Count   Dtype  \n",
      "---  ------            --------------   -----  \n",
      " 0   id                200000 non-null  int64  \n",
      " 1   sale_date         200000 non-null  object \n",
      " 2   sale_price        200000 non-null  int64  \n",
      " 3   sale_nbr          157818 non-null  float64\n",
      " 4   sale_warning      200000 non-null  object \n",
      " 5   join_status       200000 non-null  object \n",
      " 6   join_year         200000 non-null  int64  \n",
      " 7   latitude          200000 non-null  float64\n",
      " 8   longitude         200000 non-null  float64\n",
      " 9   area              200000 non-null  int64  \n",
      " 10  city              200000 non-null  object \n",
      " 11  zoning            200000 non-null  object \n",
      " 12  subdivision       182450 non-null  object \n",
      " 13  present_use       200000 non-null  int64  \n",
      " 14  land_val          200000 non-null  int64  \n",
      " 15  imp_val           200000 non-null  int64  \n",
      " 16  year_built        200000 non-null  int64  \n",
      " 17  year_reno         200000 non-null  int64  \n",
      " 18  sqft_lot          200000 non-null  int64  \n",
      " 19  sqft              200000 non-null  int64  \n",
      " 20  sqft_1            200000 non-null  int64  \n",
      " 21  sqft_fbsmt        200000 non-null  int64  \n",
      " 22  grade             200000 non-null  int64  \n",
      " 23  fbsmt_grade       200000 non-null  int64  \n",
      " 24  condition         200000 non-null  int64  \n",
      " 25  stories           200000 non-null  float64\n",
      " 26  beds              200000 non-null  int64  \n",
      " 27  bath_full         200000 non-null  int64  \n",
      " 28  bath_3qtr         200000 non-null  int64  \n",
      " 29  bath_half         200000 non-null  int64  \n",
      " 30  garb_sqft         200000 non-null  int64  \n",
      " 31  gara_sqft         200000 non-null  int64  \n",
      " 32  wfnt              200000 non-null  int64  \n",
      " 33  golf              200000 non-null  int64  \n",
      " 34  greenbelt         200000 non-null  int64  \n",
      " 35  noise_traffic     200000 non-null  int64  \n",
      " 36  view_rainier      200000 non-null  int64  \n",
      " 37  view_olympics     200000 non-null  int64  \n",
      " 38  view_cascades     200000 non-null  int64  \n",
      " 39  view_territorial  200000 non-null  int64  \n",
      " 40  view_skyline      200000 non-null  int64  \n",
      " 41  view_sound        200000 non-null  int64  \n",
      " 42  view_lakewash     200000 non-null  int64  \n",
      " 43  view_lakesamm     200000 non-null  int64  \n",
      " 44  view_otherwater   200000 non-null  int64  \n",
      " 45  view_other        200000 non-null  int64  \n",
      " 46  submarket         198283 non-null  object \n",
      "dtypes: float64(4), int64(36), object(7)\n",
      "memory usage: 71.7+ MB\n"
     ]
    }
   ],
   "source": [
    "df.info()"
   ]
  },
  {
   "cell_type": "code",
   "execution_count": 20,
   "id": "22397b2a",
   "metadata": {},
   "outputs": [
    {
     "data": {
      "application/vnd.microsoft.datawrangler.viewer.v0+json": {
       "columns": [
        {
         "name": "index",
         "rawType": "int64",
         "type": "integer"
        },
        {
         "name": "sale_date",
         "rawType": "object",
         "type": "string"
        }
       ],
       "ref": "1a67e8a1-8d27-4207-83d9-f010f5670df4",
       "rows": [
        [
         "0",
         "2014-11-15"
        ],
        [
         "1",
         "1999-01-15"
        ],
        [
         "2",
         "2006-08-15"
        ],
        [
         "3",
         "1999-12-15"
        ],
        [
         "4",
         "2018-07-15"
        ]
       ],
       "shape": {
        "columns": 1,
        "rows": 5
       }
      },
      "text/plain": [
       "0    2014-11-15\n",
       "1    1999-01-15\n",
       "2    2006-08-15\n",
       "3    1999-12-15\n",
       "4    2018-07-15\n",
       "Name: sale_date, dtype: object"
      ]
     },
     "execution_count": 20,
     "metadata": {},
     "output_type": "execute_result"
    }
   ],
   "source": [
    "df['sale_date'].head()"
   ]
  },
  {
   "cell_type": "code",
   "execution_count": 21,
   "id": "84b710c9",
   "metadata": {},
   "outputs": [
    {
     "data": {
      "application/vnd.microsoft.datawrangler.viewer.v0+json": {
       "columns": [
        {
         "name": "index",
         "rawType": "int64",
         "type": "integer"
        },
        {
         "name": "join_year",
         "rawType": "int64",
         "type": "integer"
        }
       ],
       "ref": "1f82acc6-4e0f-4c38-b499-f89b899e2feb",
       "rows": [
        [
         "0",
         "2025"
        ],
        [
         "1",
         "2025"
        ],
        [
         "2",
         "2025"
        ],
        [
         "3",
         "2025"
        ],
        [
         "4",
         "2025"
        ]
       ],
       "shape": {
        "columns": 1,
        "rows": 5
       }
      },
      "text/plain": [
       "0    2025\n",
       "1    2025\n",
       "2    2025\n",
       "3    2025\n",
       "4    2025\n",
       "Name: join_year, dtype: int64"
      ]
     },
     "execution_count": 21,
     "metadata": {},
     "output_type": "execute_result"
    }
   ],
   "source": [
    "df['join_year'].head()"
   ]
  },
  {
   "cell_type": "code",
   "execution_count": null,
   "id": "ae9e0744",
   "metadata": {},
   "outputs": [],
   "source": [
    "df['sale_year'] = df['sale_date'].apply(lambda x : x.split('-')[0])\n",
    "df['sale_month'] = df['sale_date'].apply(lambda x : x.split('-')[1])\n",
    "df['sale_day'] = df['sale_date'].apply(lambda x : x.split('-')[2])"
   ]
  },
  {
   "cell_type": "code",
   "execution_count": 26,
   "id": "016570e1",
   "metadata": {},
   "outputs": [
    {
     "data": {
      "application/vnd.microsoft.datawrangler.viewer.v0+json": {
       "columns": [
        {
         "name": "index",
         "rawType": "int64",
         "type": "integer"
        },
        {
         "name": "sale_year",
         "rawType": "object",
         "type": "string"
        },
        {
         "name": "sale_month",
         "rawType": "object",
         "type": "string"
        },
        {
         "name": "sale_day",
         "rawType": "object",
         "type": "string"
        }
       ],
       "ref": "4afdf7a9-2b7c-4c3a-a025-5ab5abf0da4b",
       "rows": [
        [
         "0",
         "2014",
         "11",
         "15"
        ],
        [
         "1",
         "1999",
         "01",
         "15"
        ],
        [
         "2",
         "2006",
         "08",
         "15"
        ],
        [
         "3",
         "1999",
         "12",
         "15"
        ],
        [
         "4",
         "2018",
         "07",
         "15"
        ],
        [
         "5",
         "2010",
         "02",
         "15"
        ],
        [
         "6",
         "2016",
         "10",
         "15"
        ],
        [
         "7",
         "2001",
         "08",
         "15"
        ],
        [
         "8",
         "2002",
         "01",
         "15"
        ],
        [
         "9",
         "2022",
         "05",
         "15"
        ],
        [
         "10",
         "2020",
         "10",
         "15"
        ],
        [
         "11",
         "2004",
         "09",
         "15"
        ],
        [
         "12",
         "2018",
         "03",
         "15"
        ],
        [
         "13",
         "2021",
         "05",
         "15"
        ],
        [
         "14",
         "2002",
         "03",
         "15"
        ],
        [
         "15",
         "2006",
         "02",
         "15"
        ],
        [
         "16",
         "2012",
         "06",
         "15"
        ],
        [
         "17",
         "2000",
         "07",
         "15"
        ],
        [
         "18",
         "2016",
         "09",
         "15"
        ],
        [
         "19",
         "2013",
         "04",
         "15"
        ],
        [
         "20",
         "2015",
         "04",
         "15"
        ],
        [
         "21",
         "2001",
         "06",
         "15"
        ],
        [
         "22",
         "2006",
         "11",
         "15"
        ],
        [
         "23",
         "2005",
         "11",
         "15"
        ],
        [
         "24",
         "2005",
         "07",
         "15"
        ],
        [
         "25",
         "2002",
         "10",
         "15"
        ],
        [
         "26",
         "2011",
         "04",
         "15"
        ],
        [
         "27",
         "2006",
         "11",
         "15"
        ],
        [
         "28",
         "2000",
         "08",
         "15"
        ],
        [
         "29",
         "2000",
         "11",
         "15"
        ],
        [
         "30",
         "2023",
         "06",
         "15"
        ],
        [
         "31",
         "2010",
         "02",
         "15"
        ],
        [
         "32",
         "2018",
         "08",
         "15"
        ],
        [
         "33",
         "2012",
         "12",
         "15"
        ],
        [
         "34",
         "2015",
         "03",
         "15"
        ],
        [
         "35",
         "2015",
         "12",
         "15"
        ],
        [
         "36",
         "2006",
         "11",
         "15"
        ],
        [
         "37",
         "1999",
         "08",
         "15"
        ],
        [
         "38",
         "2006",
         "12",
         "15"
        ],
        [
         "39",
         "2012",
         "08",
         "15"
        ],
        [
         "40",
         "2017",
         "01",
         "15"
        ],
        [
         "41",
         "2012",
         "11",
         "15"
        ],
        [
         "42",
         "2003",
         "09",
         "15"
        ],
        [
         "43",
         "2018",
         "12",
         "15"
        ],
        [
         "44",
         "2024",
         "09",
         "15"
        ],
        [
         "45",
         "2005",
         "03",
         "15"
        ],
        [
         "46",
         "2004",
         "02",
         "15"
        ],
        [
         "47",
         "2023",
         "09",
         "15"
        ],
        [
         "48",
         "2017",
         "03",
         "15"
        ],
        [
         "49",
         "2019",
         "10",
         "15"
        ]
       ],
       "shape": {
        "columns": 3,
        "rows": 200000
       }
      },
      "text/html": [
       "<div>\n",
       "<style scoped>\n",
       "    .dataframe tbody tr th:only-of-type {\n",
       "        vertical-align: middle;\n",
       "    }\n",
       "\n",
       "    .dataframe tbody tr th {\n",
       "        vertical-align: top;\n",
       "    }\n",
       "\n",
       "    .dataframe thead th {\n",
       "        text-align: right;\n",
       "    }\n",
       "</style>\n",
       "<table border=\"1\" class=\"dataframe\">\n",
       "  <thead>\n",
       "    <tr style=\"text-align: right;\">\n",
       "      <th></th>\n",
       "      <th>sale_year</th>\n",
       "      <th>sale_month</th>\n",
       "      <th>sale_day</th>\n",
       "    </tr>\n",
       "  </thead>\n",
       "  <tbody>\n",
       "    <tr>\n",
       "      <th>0</th>\n",
       "      <td>2014</td>\n",
       "      <td>11</td>\n",
       "      <td>15</td>\n",
       "    </tr>\n",
       "    <tr>\n",
       "      <th>1</th>\n",
       "      <td>1999</td>\n",
       "      <td>01</td>\n",
       "      <td>15</td>\n",
       "    </tr>\n",
       "    <tr>\n",
       "      <th>2</th>\n",
       "      <td>2006</td>\n",
       "      <td>08</td>\n",
       "      <td>15</td>\n",
       "    </tr>\n",
       "    <tr>\n",
       "      <th>3</th>\n",
       "      <td>1999</td>\n",
       "      <td>12</td>\n",
       "      <td>15</td>\n",
       "    </tr>\n",
       "    <tr>\n",
       "      <th>4</th>\n",
       "      <td>2018</td>\n",
       "      <td>07</td>\n",
       "      <td>15</td>\n",
       "    </tr>\n",
       "    <tr>\n",
       "      <th>...</th>\n",
       "      <td>...</td>\n",
       "      <td>...</td>\n",
       "      <td>...</td>\n",
       "    </tr>\n",
       "    <tr>\n",
       "      <th>199995</th>\n",
       "      <td>2000</td>\n",
       "      <td>08</td>\n",
       "      <td>15</td>\n",
       "    </tr>\n",
       "    <tr>\n",
       "      <th>199996</th>\n",
       "      <td>2019</td>\n",
       "      <td>07</td>\n",
       "      <td>15</td>\n",
       "    </tr>\n",
       "    <tr>\n",
       "      <th>199997</th>\n",
       "      <td>2018</td>\n",
       "      <td>06</td>\n",
       "      <td>15</td>\n",
       "    </tr>\n",
       "    <tr>\n",
       "      <th>199998</th>\n",
       "      <td>2018</td>\n",
       "      <td>06</td>\n",
       "      <td>15</td>\n",
       "    </tr>\n",
       "    <tr>\n",
       "      <th>199999</th>\n",
       "      <td>2024</td>\n",
       "      <td>06</td>\n",
       "      <td>15</td>\n",
       "    </tr>\n",
       "  </tbody>\n",
       "</table>\n",
       "<p>200000 rows × 3 columns</p>\n",
       "</div>"
      ],
      "text/plain": [
       "       sale_year sale_month sale_day\n",
       "0           2014         11       15\n",
       "1           1999         01       15\n",
       "2           2006         08       15\n",
       "3           1999         12       15\n",
       "4           2018         07       15\n",
       "...          ...        ...      ...\n",
       "199995      2000         08       15\n",
       "199996      2019         07       15\n",
       "199997      2018         06       15\n",
       "199998      2018         06       15\n",
       "199999      2024         06       15\n",
       "\n",
       "[200000 rows x 3 columns]"
      ]
     },
     "execution_count": 26,
     "metadata": {},
     "output_type": "execute_result"
    }
   ],
   "source": [
    "df[['sale_year','sale_month','sale_day']]"
   ]
  },
  {
   "cell_type": "code",
   "execution_count": 31,
   "id": "3b2dd9f6",
   "metadata": {},
   "outputs": [
    {
     "data": {
      "text/plain": [
       "<Axes: xlabel='count', ylabel='sale_year'>"
      ]
     },
     "execution_count": 31,
     "metadata": {},
     "output_type": "execute_result"
    },
    {
     "data": {
      "image/png": "[encoded data removed]",
      "text/plain": [
       "<Figure size 640x480 with 1 Axes>"
      ]
     },
     "metadata": {},
     "output_type": "display_data"
    }
   ],
   "source": [
    "sns.countplot(df['sale_year'])"
   ]
  },
  {
   "cell_type": "code",
   "execution_count": 32,
   "id": "fac2db39",
   "metadata": {},
   "outputs": [
    {
     "data": {
      "text/plain": [
       "<Axes: xlabel='count', ylabel='sale_month'>"
      ]
     },
     "execution_count": 32,
     "metadata": {},
     "output_type": "execute_result"
    },
    {
     "data": {
      "image/png": "[encoded data removed]",
      "text/plain": [
       "<Figure size 640x480 with 1 Axes>"
      ]
     },
     "metadata": {},
     "output_type": "display_data"
    }
   ],
   "source": [
    "sns.countplot(df['sale_month'])"
   ]
  },
  {
   "cell_type": "code",
   "execution_count": 33,
   "id": "ee729a1d",
   "metadata": {},
   "outputs": [
    {
     "data": {
      "text/plain": [
       "<Axes: xlabel='count', ylabel='sale_day'>"
      ]
     },
     "execution_count": 33,
     "metadata": {},
     "output_type": "execute_result"
    },
    {
     "data": {
      "image/png": "[encoded data removed]",
      "text/plain": [
       "<Figure size 640x480 with 1 Axes>"
      ]
     },
     "metadata": {},
     "output_type": "display_data"
    }
   ],
   "source": [
    "sns.countplot(df['sale_day'])"
   ]
  },
  {
   "cell_type": "code",
   "execution_count": 35,
   "id": "f61b98bc",
   "metadata": {},
   "outputs": [
    {
     "data": {
      "application/vnd.microsoft.datawrangler.viewer.v0+json": {
       "columns": [
        {
         "name": "index",
         "rawType": "int64",
         "type": "integer"
        },
        {
         "name": "id",
         "rawType": "int64",
         "type": "integer"
        },
        {
         "name": "sale_date",
         "rawType": "object",
         "type": "string"
        },
        {
         "name": "sale_price",
         "rawType": "int64",
         "type": "integer"
        },
        {
         "name": "sale_nbr",
         "rawType": "float64",
         "type": "float"
        },
        {
         "name": "sale_warning",
         "rawType": "object",
         "type": "string"
        },
        {
         "name": "join_status",
         "rawType": "object",
         "type": "string"
        },
        {
         "name": "join_year",
         "rawType": "int64",
         "type": "integer"
        },
        {
         "name": "latitude",
         "rawType": "float64",
         "type": "float"
        },
        {
         "name": "longitude",
         "rawType": "float64",
         "type": "float"
        },
        {
         "name": "area",
         "rawType": "int64",
         "type": "integer"
        },
        {
         "name": "city",
         "rawType": "object",
         "type": "string"
        },
        {
         "name": "zoning",
         "rawType": "object",
         "type": "string"
        },
        {
         "name": "subdivision",
         "rawType": "object",
         "type": "string"
        },
        {
         "name": "present_use",
         "rawType": "int64",
         "type": "integer"
        },
        {
         "name": "land_val",
         "rawType": "int64",
         "type": "integer"
        },
        {
         "name": "imp_val",
         "rawType": "int64",
         "type": "integer"
        },
        {
         "name": "year_built",
         "rawType": "int64",
         "type": "integer"
        },
        {
         "name": "year_reno",
         "rawType": "int64",
         "type": "integer"
        },
        {
         "name": "sqft_lot",
         "rawType": "int64",
         "type": "integer"
        },
        {
         "name": "sqft",
         "rawType": "int64",
         "type": "integer"
        },
        {
         "name": "sqft_1",
         "rawType": "int64",
         "type": "integer"
        },
        {
         "name": "sqft_fbsmt",
         "rawType": "int64",
         "type": "integer"
        },
        {
         "name": "grade",
         "rawType": "int64",
         "type": "integer"
        },
        {
         "name": "fbsmt_grade",
         "rawType": "int64",
         "type": "integer"
        },
        {
         "name": "condition",
         "rawType": "int64",
         "type": "integer"
        },
        {
         "name": "stories",
         "rawType": "float64",
         "type": "float"
        },
        {
         "name": "beds",
         "rawType": "int64",
         "type": "integer"
        },
        {
         "name": "bath_full",
         "rawType": "int64",
         "type": "integer"
        },
        {
         "name": "bath_3qtr",
         "rawType": "int64",
         "type": "integer"
        },
        {
         "name": "bath_half",
         "rawType": "int64",
         "type": "integer"
        },
        {
         "name": "garb_sqft",
         "rawType": "int64",
         "type": "integer"
        },
        {
         "name": "gara_sqft",
         "rawType": "int64",
         "type": "integer"
        },
        {
         "name": "wfnt",
         "rawType": "int64",
         "type": "integer"
        },
        {
         "name": "golf",
         "rawType": "int64",
         "type": "integer"
        },
        {
         "name": "greenbelt",
         "rawType": "int64",
         "type": "integer"
        },
        {
         "name": "noise_traffic",
         "rawType": "int64",
         "type": "integer"
        },
        {
         "name": "view_rainier",
         "rawType": "int64",
         "type": "integer"
        },
        {
         "name": "view_olympics",
         "rawType": "int64",
         "type": "integer"
        },
        {
         "name": "view_cascades",
         "rawType": "int64",
         "type": "integer"
        },
        {
         "name": "view_territorial",
         "rawType": "int64",
         "type": "integer"
        },
        {
         "name": "view_skyline",
         "rawType": "int64",
         "type": "integer"
        },
        {
         "name": "view_sound",
         "rawType": "int64",
         "type": "integer"
        },
        {
         "name": "view_lakewash",
         "rawType": "int64",
         "type": "integer"
        },
        {
         "name": "view_lakesamm",
         "rawType": "int64",
         "type": "integer"
        },
        {
         "name": "view_otherwater",
         "rawType": "int64",
         "type": "integer"
        },
        {
         "name": "view_other",
         "rawType": "int64",
         "type": "integer"
        },
        {
         "name": "submarket",
         "rawType": "object",
         "type": "string"
        },
        {
         "name": "sale_year",
         "rawType": "object",
         "type": "string"
        },
        {
         "name": "sale_month",
         "rawType": "object",
         "type": "string"
        },
        {
         "name": "sale_day",
         "rawType": "object",
         "type": "string"
        }
       ],
       "ref": "4dbad89e-f4e7-4dc7-ba13-493eeb210fc9",
       "rows": [
        [
         "0",
         "0",
         "2014-11-15",
         "236000",
         "2.0",
         "   ",
         "nochg",
         "2025",
         "47.2917",
         "-122.3658",
         "53",
         "FEDERAL WAY",
         "RS7.2",
         "ALDERWOOD SOUTH DIV NO. 02",
         "2",
         "167000",
         "372000",
         "1975",
         "0",
         "10919",
         "1560",
         "1560",
         "0",
         "7",
         "0",
         "5",
         "1.0",
         "3",
         "1",
         "1",
         "0",
         "0",
         "500",
         "0",
         "0",
         "0",
         "0",
         "0",
         "0",
         "0",
         "0",
         "0",
         "0",
         "0",
         "0",
         "0",
         "0",
         "I",
         "2014",
         "11",
         "15"
        ],
        [
         "1",
         "1",
         "1999-01-15",
         "313300",
         null,
         " 26 ",
         "nochg",
         "2025",
         "47.6531",
         "-122.1996",
         "74",
         "KIRKLAND",
         "RS 8.5",
         "WILDWOOD LANE NO. 03",
         "2",
         "1184000",
         "598000",
         "1962",
         "0",
         "8900",
         "2040",
         "1220",
         "820",
         "7",
         "7",
         "4",
         "1.0",
         "3",
         "1",
         "1",
         "1",
         "0",
         "0",
         "0",
         "0",
         "0",
         "0",
         "0",
         "0",
         "0",
         "0",
         "0",
         "0",
         "1",
         "0",
         "0",
         "0",
         "Q",
         "1999",
         "01",
         "15"
        ],
        [
         "2",
         "2",
         "2006-08-15",
         "341000",
         "1.0",
         "   ",
         "nochg",
         "2025",
         "47.4733",
         "-122.1901",
         "30",
         "RENTON",
         "R-8",
         "FALCON RIDGE (CEDAR RIDGE)",
         "2",
         "230000",
         "356000",
         "1986",
         "0",
         "4953",
         "1640",
         "820",
         "0",
         "7",
         "0",
         "3",
         "2.0",
         "3",
         "2",
         "0",
         "1",
         "0",
         "480",
         "0",
         "0",
         "0",
         "0",
         "0",
         "0",
         "0",
         "0",
         "0",
         "0",
         "0",
         "0",
         "0",
         "0",
         "K",
         "2006",
         "08",
         "15"
        ],
        [
         "3",
         "3",
         "1999-12-15",
         "267000",
         "1.0",
         "   ",
         "nochg",
         "2025",
         "47.4739",
         "-122.3295",
         "96",
         "BURIEN",
         "RS-7200",
         "OLYMPIC VUE ESTATES",
         "2",
         "190000",
         "518000",
         "1998",
         "0",
         "6799",
         "2610",
         "1010",
         "500",
         "8",
         "7",
         "3",
         "2.0",
         "4",
         "2",
         "0",
         "1",
         "0",
         "530",
         "0",
         "0",
         "0",
         "1",
         "0",
         "0",
         "0",
         "0",
         "0",
         "0",
         "0",
         "0",
         "0",
         "0",
         "G",
         "1999",
         "12",
         "15"
        ],
        [
         "4",
         "4",
         "2018-07-15",
         "1650000",
         "2.0",
         "   ",
         "miss99",
         "2025",
         "47.7516",
         "-122.1222",
         "36",
         "KING COUNTY",
         "RA2.5",
         "HOLLYWOOD HILL HIGHLANDS",
         "2",
         "616000",
         "1917000",
         "1998",
         "0",
         "31687",
         "4040",
         "3640",
         "0",
         "12",
         "0",
         "3",
         "2.0",
         "4",
         "2",
         "1",
         "1",
         "0",
         "810",
         "0",
         "0",
         "0",
         "0",
         "0",
         "0",
         "0",
         "0",
         "0",
         "0",
         "0",
         "0",
         "0",
         "0",
         "P",
         "2018",
         "07",
         "15"
        ]
       ],
       "shape": {
        "columns": 50,
        "rows": 5
       }
      },
      "text/html": [
       "<div>\n",
       "<style scoped>\n",
       "    .dataframe tbody tr th:only-of-type {\n",
       "        vertical-align: middle;\n",
       "    }\n",
       "\n",
       "    .dataframe tbody tr th {\n",
       "        vertical-align: top;\n",
       "    }\n",
       "\n",
       "    .dataframe thead th {\n",
       "        text-align: right;\n",
       "    }\n",
       "</style>\n",
       "<table border=\"1\" class=\"dataframe\">\n",
       "  <thead>\n",
       "    <tr style=\"text-align: right;\">\n",
       "      <th></th>\n",
       "      <th>id</th>\n",
       "      <th>sale_date</th>\n",
       "      <th>sale_price</th>\n",
       "      <th>sale_nbr</th>\n",
       "      <th>sale_warning</th>\n",
       "      <th>join_status</th>\n",
       "      <th>join_year</th>\n",
       "      <th>latitude</th>\n",
       "      <th>longitude</th>\n",
       "      <th>area</th>\n",
       "      <th>...</th>\n",
       "      <th>view_skyline</th>\n",
       "      <th>view_sound</th>\n",
       "      <th>view_lakewash</th>\n",
       "      <th>view_lakesamm</th>\n",
       "      <th>view_otherwater</th>\n",
       "      <th>view_other</th>\n",
       "      <th>submarket</th>\n",
       "      <th>sale_year</th>\n",
       "      <th>sale_month</th>\n",
       "      <th>sale_day</th>\n",
       "    </tr>\n",
       "  </thead>\n",
       "  <tbody>\n",
       "    <tr>\n",
       "      <th>0</th>\n",
       "      <td>0</td>\n",
       "      <td>2014-11-15</td>\n",
       "      <td>236000</td>\n",
       "      <td>2.0</td>\n",
       "      <td></td>\n",
       "      <td>nochg</td>\n",
       "      <td>2025</td>\n",
       "      <td>47.2917</td>\n",
       "      <td>-122.3658</td>\n",
       "      <td>53</td>\n",
       "      <td>...</td>\n",
       "      <td>0</td>\n",
       "      <td>0</td>\n",
       "      <td>0</td>\n",
       "      <td>0</td>\n",
       "      <td>0</td>\n",
       "      <td>0</td>\n",
       "      <td>I</td>\n",
       "      <td>2014</td>\n",
       "      <td>11</td>\n",
       "      <td>15</td>\n",
       "    </tr>\n",
       "    <tr>\n",
       "      <th>1</th>\n",
       "      <td>1</td>\n",
       "      <td>1999-01-15</td>\n",
       "      <td>313300</td>\n",
       "      <td>NaN</td>\n",
       "      <td>26</td>\n",
       "      <td>nochg</td>\n",
       "      <td>2025</td>\n",
       "      <td>47.6531</td>\n",
       "      <td>-122.1996</td>\n",
       "      <td>74</td>\n",
       "      <td>...</td>\n",
       "      <td>0</td>\n",
       "      <td>0</td>\n",
       "      <td>1</td>\n",
       "      <td>0</td>\n",
       "      <td>0</td>\n",
       "      <td>0</td>\n",
       "      <td>Q</td>\n",
       "      <td>1999</td>\n",
       "      <td>01</td>\n",
       "      <td>15</td>\n",
       "    </tr>\n",
       "    <tr>\n",
       "      <th>2</th>\n",
       "      <td>2</td>\n",
       "      <td>2006-08-15</td>\n",
       "      <td>341000</td>\n",
       "      <td>1.0</td>\n",
       "      <td></td>\n",
       "      <td>nochg</td>\n",
       "      <td>2025</td>\n",
       "      <td>47.4733</td>\n",
       "      <td>-122.1901</td>\n",
       "      <td>30</td>\n",
       "      <td>...</td>\n",
       "      <td>0</td>\n",
       "      <td>0</td>\n",
       "      <td>0</td>\n",
       "      <td>0</td>\n",
       "      <td>0</td>\n",
       "      <td>0</td>\n",
       "      <td>K</td>\n",
       "      <td>2006</td>\n",
       "      <td>08</td>\n",
       "      <td>15</td>\n",
       "    </tr>\n",
       "    <tr>\n",
       "      <th>3</th>\n",
       "      <td>3</td>\n",
       "      <td>1999-12-15</td>\n",
       "      <td>267000</td>\n",
       "      <td>1.0</td>\n",
       "      <td></td>\n",
       "      <td>nochg</td>\n",
       "      <td>2025</td>\n",
       "      <td>47.4739</td>\n",
       "      <td>-122.3295</td>\n",
       "      <td>96</td>\n",
       "      <td>...</td>\n",
       "      <td>0</td>\n",
       "      <td>0</td>\n",
       "      <td>0</td>\n",
       "      <td>0</td>\n",
       "      <td>0</td>\n",
       "      <td>0</td>\n",
       "      <td>G</td>\n",
       "      <td>1999</td>\n",
       "      <td>12</td>\n",
       "      <td>15</td>\n",
       "    </tr>\n",
       "    <tr>\n",
       "      <th>4</th>\n",
       "      <td>4</td>\n",
       "      <td>2018-07-15</td>\n",
       "      <td>1650000</td>\n",
       "      <td>2.0</td>\n",
       "      <td></td>\n",
       "      <td>miss99</td>\n",
       "      <td>2025</td>\n",
       "      <td>47.7516</td>\n",
       "      <td>-122.1222</td>\n",
       "      <td>36</td>\n",
       "      <td>...</td>\n",
       "      <td>0</td>\n",
       "      <td>0</td>\n",
       "      <td>0</td>\n",
       "      <td>0</td>\n",
       "      <td>0</td>\n",
       "      <td>0</td>\n",
       "      <td>P</td>\n",
       "      <td>2018</td>\n",
       "      <td>07</td>\n",
       "      <td>15</td>\n",
       "    </tr>\n",
       "  </tbody>\n",
       "</table>\n",
       "<p>5 rows × 50 columns</p>\n",
       "</div>"
      ],
      "text/plain": [
       "   id   sale_date  sale_price  sale_nbr sale_warning join_status  join_year  \\\n",
       "0   0  2014-11-15      236000       2.0                    nochg       2025   \n",
       "1   1  1999-01-15      313300       NaN          26        nochg       2025   \n",
       "2   2  2006-08-15      341000       1.0                    nochg       2025   \n",
       "3   3  1999-12-15      267000       1.0                    nochg       2025   \n",
       "4   4  2018-07-15     1650000       2.0                   miss99       2025   \n",
       "\n",
       "   latitude  longitude  area  ... view_skyline view_sound view_lakewash  \\\n",
       "0   47.2917  -122.3658    53  ...            0          0             0   \n",
       "1   47.6531  -122.1996    74  ...            0          0             1   \n",
       "2   47.4733  -122.1901    30  ...            0          0             0   \n",
       "3   47.4739  -122.3295    96  ...            0          0             0   \n",
       "4   47.7516  -122.1222    36  ...            0          0             0   \n",
       "\n",
       "   view_lakesamm  view_otherwater  view_other  submarket  sale_year  \\\n",
       "0              0                0           0          I       2014   \n",
       "1              0                0           0          Q       1999   \n",
       "2              0                0           0          K       2006   \n",
       "3              0                0           0          G       1999   \n",
       "4              0                0           0          P       2018   \n",
       "\n",
       "   sale_month  sale_day  \n",
       "0          11        15  \n",
       "1          01        15  \n",
       "2          08        15  \n",
       "3          12        15  \n",
       "4          07        15  \n",
       "\n",
       "[5 rows x 50 columns]"
      ]
     },
     "execution_count": 35,
     "metadata": {},
     "output_type": "execute_result"
    }
   ],
   "source": [
    "df.head()"
   ]
  },
  {
   "cell_type": "code",
   "execution_count": 36,
   "id": "a7023071",
   "metadata": {},
   "outputs": [
    {
     "data": {
      "application/vnd.microsoft.datawrangler.viewer.v0+json": {
       "columns": [
        {
         "name": "index",
         "rawType": "object",
         "type": "string"
        },
        {
         "name": "0",
         "rawType": "int64",
         "type": "integer"
        }
       ],
       "ref": "1b86eaa8-574e-4ed4-950a-f95d4fe6d33c",
       "rows": [
        [
         "id",
         "0"
        ],
        [
         "sale_date",
         "0"
        ],
        [
         "sale_price",
         "0"
        ],
        [
         "sale_nbr",
         "42182"
        ],
        [
         "sale_warning",
         "0"
        ],
        [
         "join_status",
         "0"
        ],
        [
         "join_year",
         "0"
        ],
        [
         "latitude",
         "0"
        ],
        [
         "longitude",
         "0"
        ],
        [
         "area",
         "0"
        ],
        [
         "city",
         "0"
        ],
        [
         "zoning",
         "0"
        ],
        [
         "subdivision",
         "17550"
        ],
        [
         "present_use",
         "0"
        ],
        [
         "land_val",
         "0"
        ],
        [
         "imp_val",
         "0"
        ],
        [
         "year_built",
         "0"
        ],
        [
         "year_reno",
         "0"
        ],
        [
         "sqft_lot",
         "0"
        ],
        [
         "sqft",
         "0"
        ],
        [
         "sqft_1",
         "0"
        ],
        [
         "sqft_fbsmt",
         "0"
        ],
        [
         "grade",
         "0"
        ],
        [
         "fbsmt_grade",
         "0"
        ],
        [
         "condition",
         "0"
        ],
        [
         "stories",
         "0"
        ],
        [
         "beds",
         "0"
        ],
        [
         "bath_full",
         "0"
        ],
        [
         "bath_3qtr",
         "0"
        ],
        [
         "bath_half",
         "0"
        ],
        [
         "garb_sqft",
         "0"
        ],
        [
         "gara_sqft",
         "0"
        ],
        [
         "wfnt",
         "0"
        ],
        [
         "golf",
         "0"
        ],
        [
         "greenbelt",
         "0"
        ],
        [
         "noise_traffic",
         "0"
        ],
        [
         "view_rainier",
         "0"
        ],
        [
         "view_olympics",
         "0"
        ],
        [
         "view_cascades",
         "0"
        ],
        [
         "view_territorial",
         "0"
        ],
        [
         "view_skyline",
         "0"
        ],
        [
         "view_sound",
         "0"
        ],
        [
         "view_lakewash",
         "0"
        ],
        [
         "view_lakesamm",
         "0"
        ],
        [
         "view_otherwater",
         "0"
        ],
        [
         "view_other",
         "0"
        ],
        [
         "submarket",
         "1717"
        ],
        [
         "sale_year",
         "0"
        ],
        [
         "sale_month",
         "0"
        ],
        [
         "sale_day",
         "0"
        ]
       ],
       "shape": {
        "columns": 1,
        "rows": 50
       }
      },
      "text/plain": [
       "id                      0\n",
       "sale_date               0\n",
       "sale_price              0\n",
       "sale_nbr            42182\n",
       "sale_warning            0\n",
       "join_status             0\n",
       "join_year               0\n",
       "latitude                0\n",
       "longitude               0\n",
       "area                    0\n",
       "city                    0\n",
       "zoning                  0\n",
       "subdivision         17550\n",
       "present_use             0\n",
       "land_val                0\n",
       "imp_val                 0\n",
       "year_built              0\n",
       "year_reno               0\n",
       "sqft_lot                0\n",
       "sqft                    0\n",
       "sqft_1                  0\n",
       "sqft_fbsmt              0\n",
       "grade                   0\n",
       "fbsmt_grade             0\n",
       "condition               0\n",
       "stories                 0\n",
       "beds                    0\n",
       "bath_full               0\n",
       "bath_3qtr               0\n",
       "bath_half               0\n",
       "garb_sqft               0\n",
       "gara_sqft               0\n",
       "wfnt                    0\n",
       "golf                    0\n",
       "greenbelt               0\n",
       "noise_traffic           0\n",
       "view_rainier            0\n",
       "view_olympics           0\n",
       "view_cascades           0\n",
       "view_territorial        0\n",
       "view_skyline            0\n",
       "view_sound              0\n",
       "view_lakewash           0\n",
       "view_lakesamm           0\n",
       "view_otherwater         0\n",
       "view_other              0\n",
       "submarket            1717\n",
       "sale_year               0\n",
       "sale_month              0\n",
       "sale_day                0\n",
       "dtype: int64"
      ]
     },
     "execution_count": 36,
     "metadata": {},
     "output_type": "execute_result"
    }
   ],
   "source": [
    "df.isnull().sum()"
   ]
  },
  {
   "cell_type": "code",
   "execution_count": 37,
   "id": "01afe9c6",
   "metadata": {},
   "outputs": [
    {
     "data": {
      "application/vnd.microsoft.datawrangler.viewer.v0+json": {
       "columns": [
        {
         "name": "index",
         "rawType": "object",
         "type": "string"
        },
        {
         "name": "sale_nbr",
         "rawType": "float64",
         "type": "float"
        }
       ],
       "ref": "5528e4d4-fa73-4b21-878f-f620d8c47482",
       "rows": [
        [
         "count",
         "157818.0"
        ],
        [
         "mean",
         "2.1625986896298266"
        ],
        [
         "std",
         "1.1130903683620534"
        ],
        [
         "min",
         "1.0"
        ],
        [
         "25%",
         "1.0"
        ],
        [
         "50%",
         "2.0"
        ],
        [
         "75%",
         "3.0"
        ],
        [
         "max",
         "11.0"
        ]
       ],
       "shape": {
        "columns": 1,
        "rows": 8
       }
      },
      "text/plain": [
       "count    157818.000000\n",
       "mean          2.162599\n",
       "std           1.113090\n",
       "min           1.000000\n",
       "25%           1.000000\n",
       "50%           2.000000\n",
       "75%           3.000000\n",
       "max          11.000000\n",
       "Name: sale_nbr, dtype: float64"
      ]
     },
     "execution_count": 37,
     "metadata": {},
     "output_type": "execute_result"
    }
   ],
   "source": [
    "df['sale_nbr'].describe()"
   ]
  },
  {
   "cell_type": "code",
   "execution_count": 38,
   "id": "ad36cffd",
   "metadata": {},
   "outputs": [
    {
     "data": {
      "application/vnd.microsoft.datawrangler.viewer.v0+json": {
       "columns": [
        {
         "name": "index",
         "rawType": "int64",
         "type": "integer"
        },
        {
         "name": "subdivision",
         "rawType": "object",
         "type": "string"
        }
       ],
       "ref": "760bcae9-8a16-4348-a157-f3e639d6d507",
       "rows": [
        [
         "0",
         "ALDERWOOD SOUTH DIV NO. 02"
        ],
        [
         "1",
         "WILDWOOD LANE NO. 03"
        ],
        [
         "2",
         "FALCON RIDGE (CEDAR RIDGE)"
        ],
        [
         "3",
         "OLYMPIC VUE ESTATES"
        ],
        [
         "4",
         "HOLLYWOOD HILL HIGHLANDS"
        ]
       ],
       "shape": {
        "columns": 1,
        "rows": 5
       }
      },
      "text/plain": [
       "0    ALDERWOOD SOUTH DIV NO. 02\n",
       "1          WILDWOOD LANE NO. 03\n",
       "2    FALCON RIDGE (CEDAR RIDGE)\n",
       "3           OLYMPIC VUE ESTATES\n",
       "4      HOLLYWOOD HILL HIGHLANDS\n",
       "Name: subdivision, dtype: object"
      ]
     },
     "execution_count": 38,
     "metadata": {},
     "output_type": "execute_result"
    }
   ],
   "source": [
    "df['subdivision'].head()"
   ]
  },
  {
   "cell_type": "code",
   "execution_count": 39,
   "id": "1bd321b5",
   "metadata": {},
   "outputs": [
    {
     "data": {
      "application/vnd.microsoft.datawrangler.viewer.v0+json": {
       "columns": [
        {
         "name": "index",
         "rawType": "object",
         "type": "string"
        },
        {
         "name": "subdivision",
         "rawType": "object",
         "type": "unknown"
        }
       ],
       "ref": "fe3058df-17da-44de-925b-18d90eb1aef0",
       "rows": [
        [
         "count",
         "182450"
        ],
        [
         "unique",
         "10376"
        ],
        [
         "top",
         "MAPLE LEAF TO GREEN LAKE CIRCLE POR OF"
        ],
        [
         "freq",
         "723"
        ]
       ],
       "shape": {
        "columns": 1,
        "rows": 4
       }
      },
      "text/plain": [
       "count                                     182450\n",
       "unique                                     10376\n",
       "top       MAPLE LEAF TO GREEN LAKE CIRCLE POR OF\n",
       "freq                                         723\n",
       "Name: subdivision, dtype: object"
      ]
     },
     "execution_count": 39,
     "metadata": {},
     "output_type": "execute_result"
    }
   ],
   "source": [
    "df['subdivision'].describe(include='O')"
   ]
  },
  {
   "cell_type": "code",
   "execution_count": 40,
   "id": "d73d6479",
   "metadata": {},
   "outputs": [
    {
     "data": {
      "application/vnd.microsoft.datawrangler.viewer.v0+json": {
       "columns": [
        {
         "name": "index",
         "rawType": "int64",
         "type": "integer"
        },
        {
         "name": "submarket",
         "rawType": "object",
         "type": "string"
        }
       ],
       "ref": "6477b40e-66f7-4164-8329-2c509f002239",
       "rows": [
        [
         "0",
         "I"
        ],
        [
         "1",
         "Q"
        ],
        [
         "2",
         "K"
        ],
        [
         "3",
         "G"
        ],
        [
         "4",
         "P"
        ]
       ],
       "shape": {
        "columns": 1,
        "rows": 5
       }
      },
      "text/plain": [
       "0    I\n",
       "1    Q\n",
       "2    K\n",
       "3    G\n",
       "4    P\n",
       "Name: submarket, dtype: object"
      ]
     },
     "execution_count": 40,
     "metadata": {},
     "output_type": "execute_result"
    }
   ],
   "source": [
    "df['submarket'].head()"
   ]
  },
  {
   "cell_type": "code",
   "execution_count": 41,
   "id": "f62728fe",
   "metadata": {},
   "outputs": [
    {
     "data": {
      "application/vnd.microsoft.datawrangler.viewer.v0+json": {
       "columns": [
        {
         "name": "index",
         "rawType": "object",
         "type": "string"
        },
        {
         "name": "submarket",
         "rawType": "object",
         "type": "unknown"
        }
       ],
       "ref": "b57a6966-77c2-49b9-a8c7-23cd2a767374",
       "rows": [
        [
         "count",
         "198283"
        ],
        [
         "unique",
         "19"
        ],
        [
         "top",
         "K"
        ],
        [
         "freq",
         "21002"
        ]
       ],
       "shape": {
        "columns": 1,
        "rows": 4
       }
      },
      "text/plain": [
       "count     198283\n",
       "unique        19\n",
       "top            K\n",
       "freq       21002\n",
       "Name: submarket, dtype: object"
      ]
     },
     "execution_count": 41,
     "metadata": {},
     "output_type": "execute_result"
    }
   ],
   "source": [
    "df['submarket'].describe(include='O')"
   ]
  },
  {
   "cell_type": "code",
   "execution_count": 43,
   "id": "174bfa37",
   "metadata": {},
   "outputs": [
    {
     "data": {
      "application/vnd.microsoft.datawrangler.viewer.v0+json": {
       "columns": [
        {
         "name": "submarket",
         "rawType": "object",
         "type": "string"
        },
        {
         "name": "count",
         "rawType": "int64",
         "type": "integer"
        }
       ],
       "ref": "d6e582a1-00e2-4ef1-89c5-d49c2bdc9595",
       "rows": [
        [
         "K",
         "21002"
        ],
        [
         "B",
         "16289"
        ],
        [
         "I",
         "15842"
        ],
        [
         "R",
         "14404"
        ],
        [
         "Q",
         "14005"
        ],
        [
         "O",
         "12528"
        ],
        [
         "D",
         "12404"
        ],
        [
         "F",
         "12401"
        ],
        [
         "M",
         "10722"
        ],
        [
         "L",
         "10579"
        ],
        [
         "C",
         "10091"
        ],
        [
         "N",
         "10052"
        ],
        [
         "A",
         "7588"
        ],
        [
         "P",
         "6971"
        ],
        [
         "E",
         "6743"
        ],
        [
         "G",
         "6144"
        ],
        [
         "J",
         "5789"
        ],
        [
         "S",
         "3672"
        ],
        [
         "H",
         "1057"
        ]
       ],
       "shape": {
        "columns": 1,
        "rows": 19
       }
      },
      "text/plain": [
       "submarket\n",
       "K    21002\n",
       "B    16289\n",
       "I    15842\n",
       "R    14404\n",
       "Q    14005\n",
       "O    12528\n",
       "D    12404\n",
       "F    12401\n",
       "M    10722\n",
       "L    10579\n",
       "C    10091\n",
       "N    10052\n",
       "A     7588\n",
       "P     6971\n",
       "E     6743\n",
       "G     6144\n",
       "J     5789\n",
       "S     3672\n",
       "H     1057\n",
       "Name: count, dtype: int64"
      ]
     },
     "execution_count": 43,
     "metadata": {},
     "output_type": "execute_result"
    }
   ],
   "source": [
    "df['submarket'].value_counts()"
   ]
  },
  {
   "cell_type": "code",
   "execution_count": 45,
   "id": "a82e7db6",
   "metadata": {},
   "outputs": [
    {
     "data": {
      "application/vnd.microsoft.datawrangler.viewer.v0+json": {
       "columns": [
        {
         "name": "sale_year",
         "rawType": "object",
         "type": "string"
        },
        {
         "name": "count",
         "rawType": "int64",
         "type": "integer"
        }
       ],
       "ref": "f01c1cf5-075d-417f-b59b-a8df6adee64c",
       "rows": [
        [
         "1999",
         "8261"
        ],
        [
         "2000",
         "7769"
        ],
        [
         "2001",
         "7534"
        ],
        [
         "2002",
         "7773"
        ],
        [
         "2003",
         "9745"
        ],
        [
         "2004",
         "10731"
        ],
        [
         "2005",
         "11039"
        ],
        [
         "2006",
         "10273"
        ],
        [
         "2007",
         "7886"
        ],
        [
         "2008",
         "4763"
        ],
        [
         "2009",
         "4360"
        ],
        [
         "2010",
         "4763"
        ],
        [
         "2011",
         "4373"
        ],
        [
         "2012",
         "5716"
        ],
        [
         "2013",
         "7228"
        ],
        [
         "2014",
         "7465"
        ],
        [
         "2015",
         "8330"
        ],
        [
         "2016",
         "9177"
        ],
        [
         "2017",
         "9352"
        ],
        [
         "2018",
         "8122"
        ],
        [
         "2019",
         "8290"
        ],
        [
         "2020",
         "8956"
        ],
        [
         "2021",
         "10149"
        ],
        [
         "2022",
         "7017"
        ],
        [
         "2023",
         "5200"
        ],
        [
         "2024",
         "5663"
        ],
        [
         "2025",
         "65"
        ]
       ],
       "shape": {
        "columns": 1,
        "rows": 27
       }
      },
      "text/plain": [
       "sale_year\n",
       "1999     8261\n",
       "2000     7769\n",
       "2001     7534\n",
       "2002     7773\n",
       "2003     9745\n",
       "2004    10731\n",
       "2005    11039\n",
       "2006    10273\n",
       "2007     7886\n",
       "2008     4763\n",
       "2009     4360\n",
       "2010     4763\n",
       "2011     4373\n",
       "2012     5716\n",
       "2013     7228\n",
       "2014     7465\n",
       "2015     8330\n",
       "2016     9177\n",
       "2017     9352\n",
       "2018     8122\n",
       "2019     8290\n",
       "2020     8956\n",
       "2021    10149\n",
       "2022     7017\n",
       "2023     5200\n",
       "2024     5663\n",
       "2025       65\n",
       "Name: count, dtype: int64"
      ]
     },
     "execution_count": 45,
     "metadata": {},
     "output_type": "execute_result"
    }
   ],
   "source": [
    "df['sale_year'].value_counts().sort_index()"
   ]
  },
  {
   "cell_type": "code",
   "execution_count": 49,
   "id": "1c057487",
   "metadata": {},
   "outputs": [
    {
     "data": {
      "text/plain": [
       "<Axes: xlabel='sale_year', ylabel='count'>"
      ]
     },
     "execution_count": 49,
     "metadata": {},
     "output_type": "execute_result"
    },
    {
     "data": {
      "image/png": "[encoded data removed]",
      "text/plain": [
       "<Figure size 640x480 with 1 Axes>"
      ]
     },
     "metadata": {},
     "output_type": "display_data"
    }
   ],
   "source": [
    "sns.barplot(df['sale_year'].value_counts().sort_index().tail(5))"
   ]
  },
  {
   "cell_type": "code",
   "execution_count": 46,
   "id": "3aaf0192",
   "metadata": {},
   "outputs": [
    {
     "data": {
      "application/vnd.microsoft.datawrangler.viewer.v0+json": {
       "columns": [
        {
         "name": "sale_month",
         "rawType": "object",
         "type": "string"
        },
        {
         "name": "count",
         "rawType": "int64",
         "type": "integer"
        }
       ],
       "ref": "691b777b-5e46-4fb4-aa7c-b7882fa5c239",
       "rows": [
        [
         "06",
         "21631"
        ],
        [
         "05",
         "19716"
        ],
        [
         "08",
         "19625"
        ],
        [
         "07",
         "19601"
        ],
        [
         "04",
         "18055"
        ],
        [
         "09",
         "16952"
        ],
        [
         "10",
         "16940"
        ],
        [
         "03",
         "16778"
        ],
        [
         "11",
         "14730"
        ],
        [
         "12",
         "13435"
        ],
        [
         "02",
         "12439"
        ],
        [
         "01",
         "10098"
        ]
       ],
       "shape": {
        "columns": 1,
        "rows": 12
       }
      },
      "text/plain": [
       "sale_month\n",
       "06    21631\n",
       "05    19716\n",
       "08    19625\n",
       "07    19601\n",
       "04    18055\n",
       "09    16952\n",
       "10    16940\n",
       "03    16778\n",
       "11    14730\n",
       "12    13435\n",
       "02    12439\n",
       "01    10098\n",
       "Name: count, dtype: int64"
      ]
     },
     "execution_count": 46,
     "metadata": {},
     "output_type": "execute_result"
    }
   ],
   "source": [
    "df['sale_month'].value_counts()"
   ]
  },
  {
   "cell_type": "code",
   "execution_count": 47,
   "id": "65d75c3a",
   "metadata": {},
   "outputs": [
    {
     "data": {
      "text/plain": [
       "<Axes: xlabel='sale_month', ylabel='count'>"
      ]
     },
     "execution_count": 47,
     "metadata": {},
     "output_type": "execute_result"
    },
    {
     "data": {
      "image/png": "[encoded data removed]",
      "text/plain": [
       "<Figure size 640x480 with 1 Axes>"
      ]
     },
     "metadata": {},
     "output_type": "display_data"
    }
   ],
   "source": [
    "sns.barplot(df['sale_month'].value_counts())"
   ]
  },
  {
   "cell_type": "code",
   "execution_count": null,
   "id": "cc074d73",
   "metadata": {},
   "outputs": [],
   "source": []
  }
 ],
 "metadata": {
  "kernelspec": {
   "display_name": ".venv",
   "language": "python",
   "name": "python3"
  },
  "language_info": {
   "codemirror_mode": {
    "name": "ipython",
    "version": 3
   },
   "file_extension": ".py",
   "mimetype": "text/x-python",
   "name": "python",
   "nbconvert_exporter": "python",
   "pygments_lexer": "ipython3",
   "version": "3.12.10"
  }
 },
 "nbformat": 4,
 "nbformat_minor": 5
}
